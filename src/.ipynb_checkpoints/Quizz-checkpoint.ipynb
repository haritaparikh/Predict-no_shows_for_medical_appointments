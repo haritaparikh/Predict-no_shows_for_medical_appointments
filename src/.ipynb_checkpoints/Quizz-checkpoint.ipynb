{
 "cells": [
  {
   "cell_type": "markdown",
   "metadata": {},
   "source": [
    "### Predict No Shows for Medical Appointments\n",
    "\n",
    "#### Data Files\n",
    "[1] Medical History = medical_history.csv\n",
    "[2] Demographic Details = demographic_details.csv\n",
    "[3] Train Dataset =train.csv\n",
    "[4] Test Dataset = test_share.csv"
   ]
  },
  {
   "cell_type": "code",
   "execution_count": 1,
   "metadata": {},
   "outputs": [],
   "source": [
    "# import dependencies\n",
    "\n",
    "import warnings\n",
    "warnings.filterwarnings('ignore')\n",
    "import pandas as pd\n",
    "import numpy as np\n",
    "import seaborn as sns\n",
    "import matplotlib.pyplot as plt\n",
    "from sklearn.model_selection import train_test_split\n"
   ]
  },
  {
   "cell_type": "code",
   "execution_count": 2,
   "metadata": {},
   "outputs": [],
   "source": [
    "# read data and metadata\n",
    "\n",
    "datafile_train=\"C:/Users/parik/OneDrive/Desktop/Python/Edvancer projects/P6_predict_no_shows_for_medical_appointments/Predict-no_shows_for_medical_appointments/data/raw_data/train.csv\"\n",
    "\n",
    "bd_train=pd.read_csv(datafile_train)\n",
    "\n",
    "medical_hist='C:/Users/parik/OneDrive/Desktop/Python/Edvancer projects/P6_predict_no_shows_for_medical_appointments/Predict-no_shows_for_medical_appointments/data/raw_data/medical_history.csv'\n",
    "demo_det='C:/Users/parik/OneDrive/Desktop/Python/Edvancer projects/P6_predict_no_shows_for_medical_appointments/Predict-no_shows_for_medical_appointments/data/raw_data/demographic_details.csv'\n",
    "med=pd.read_csv(medical_hist)\n",
    "dem=pd.read_csv(demo_det)"
   ]
  },
  {
   "cell_type": "code",
   "execution_count": 3,
   "metadata": {},
   "outputs": [
    {
     "data": {
      "text/html": [
       "<div>\n",
       "<style scoped>\n",
       "    .dataframe tbody tr th:only-of-type {\n",
       "        vertical-align: middle;\n",
       "    }\n",
       "\n",
       "    .dataframe tbody tr th {\n",
       "        vertical-align: top;\n",
       "    }\n",
       "\n",
       "    .dataframe thead th {\n",
       "        text-align: right;\n",
       "    }\n",
       "</style>\n",
       "<table border=\"1\" class=\"dataframe\">\n",
       "  <thead>\n",
       "    <tr style=\"text-align: right;\">\n",
       "      <th></th>\n",
       "      <th>PatientId</th>\n",
       "      <th>Hipertension</th>\n",
       "      <th>Diabetes</th>\n",
       "      <th>Alcoholism</th>\n",
       "      <th>Handcap</th>\n",
       "      <th>Gender</th>\n",
       "      <th>Age</th>\n",
       "      <th>Neighbourhood</th>\n",
       "      <th>Scholarship</th>\n",
       "    </tr>\n",
       "  </thead>\n",
       "  <tbody>\n",
       "    <tr>\n",
       "      <th>0</th>\n",
       "      <td>2.987250e+13</td>\n",
       "      <td>1</td>\n",
       "      <td>0</td>\n",
       "      <td>0</td>\n",
       "      <td>0</td>\n",
       "      <td>F</td>\n",
       "      <td>62</td>\n",
       "      <td>JARDIM DA PENHA</td>\n",
       "      <td>0</td>\n",
       "    </tr>\n",
       "    <tr>\n",
       "      <th>1</th>\n",
       "      <td>5.589978e+14</td>\n",
       "      <td>0</td>\n",
       "      <td>0</td>\n",
       "      <td>0</td>\n",
       "      <td>0</td>\n",
       "      <td>M</td>\n",
       "      <td>56</td>\n",
       "      <td>JARDIM DA PENHA</td>\n",
       "      <td>0</td>\n",
       "    </tr>\n",
       "    <tr>\n",
       "      <th>2</th>\n",
       "      <td>4.262962e+12</td>\n",
       "      <td>0</td>\n",
       "      <td>0</td>\n",
       "      <td>0</td>\n",
       "      <td>0</td>\n",
       "      <td>F</td>\n",
       "      <td>62</td>\n",
       "      <td>MATA DA PRAIA</td>\n",
       "      <td>0</td>\n",
       "    </tr>\n",
       "    <tr>\n",
       "      <th>3</th>\n",
       "      <td>8.679512e+11</td>\n",
       "      <td>0</td>\n",
       "      <td>0</td>\n",
       "      <td>0</td>\n",
       "      <td>0</td>\n",
       "      <td>F</td>\n",
       "      <td>8</td>\n",
       "      <td>PONTAL DE CAMBURI</td>\n",
       "      <td>0</td>\n",
       "    </tr>\n",
       "    <tr>\n",
       "      <th>4</th>\n",
       "      <td>8.841186e+12</td>\n",
       "      <td>1</td>\n",
       "      <td>1</td>\n",
       "      <td>0</td>\n",
       "      <td>0</td>\n",
       "      <td>F</td>\n",
       "      <td>56</td>\n",
       "      <td>JARDIM DA PENHA</td>\n",
       "      <td>0</td>\n",
       "    </tr>\n",
       "  </tbody>\n",
       "</table>\n",
       "</div>"
      ],
      "text/plain": [
       "      PatientId  Hipertension  Diabetes  Alcoholism  Handcap Gender  Age  \\\n",
       "0  2.987250e+13             1         0           0        0      F   62   \n",
       "1  5.589978e+14             0         0           0        0      M   56   \n",
       "2  4.262962e+12             0         0           0        0      F   62   \n",
       "3  8.679512e+11             0         0           0        0      F    8   \n",
       "4  8.841186e+12             1         1           0        0      F   56   \n",
       "\n",
       "       Neighbourhood  Scholarship  \n",
       "0    JARDIM DA PENHA            0  \n",
       "1    JARDIM DA PENHA            0  \n",
       "2      MATA DA PRAIA            0  \n",
       "3  PONTAL DE CAMBURI            0  \n",
       "4    JARDIM DA PENHA            0  "
      ]
     },
     "execution_count": 3,
     "metadata": {},
     "output_type": "execute_result"
    }
   ],
   "source": [
    "# combining metedata\n",
    "\n",
    "comb=pd.merge(med,dem,how='outer',on='PatientId')\n",
    "comb.head()"
   ]
  },
  {
   "cell_type": "code",
   "execution_count": 4,
   "metadata": {},
   "outputs": [],
   "source": [
    "# combining training data and metadata\n",
    "\n",
    "train=pd.merge(bd_train,comb,how='left',on='PatientId')\n"
   ]
  },
  {
   "cell_type": "code",
   "execution_count": 5,
   "metadata": {},
   "outputs": [
    {
     "data": {
      "text/plain": [
       "PatientId         19573\n",
       "AppointmentID     19573\n",
       "ScheduledDay      19573\n",
       "AppointmentDay    19573\n",
       "SMS_received      19573\n",
       "No-show           19573\n",
       "Hipertension      19573\n",
       "Diabetes          19573\n",
       "Alcoholism        19573\n",
       "Handcap           19573\n",
       "Gender            19573\n",
       "Age               19573\n",
       "Neighbourhood     19573\n",
       "Scholarship       19573\n",
       "dtype: int64"
      ]
     },
     "execution_count": 5,
     "metadata": {},
     "output_type": "execute_result"
    }
   ],
   "source": [
    "# Quiz 1\n",
    "a = train[train.Hipertension == 1]\n",
    "a.count()"
   ]
  },
  {
   "cell_type": "code",
   "execution_count": 6,
   "metadata": {},
   "outputs": [
    {
     "data": {
      "text/plain": [
       "PatientId         5824\n",
       "AppointmentID     5824\n",
       "ScheduledDay      5824\n",
       "AppointmentDay    5824\n",
       "SMS_received      5824\n",
       "No-show           5824\n",
       "Hipertension      5824\n",
       "Diabetes          5824\n",
       "Alcoholism        5824\n",
       "Handcap           5824\n",
       "Gender            5824\n",
       "Age               5824\n",
       "Neighbourhood     5824\n",
       "Scholarship       5824\n",
       "dtype: int64"
      ]
     },
     "execution_count": 6,
     "metadata": {},
     "output_type": "execute_result"
    }
   ],
   "source": [
    "b = train[(train.Hipertension == 1) & (train.Diabetes == 1)]\n",
    "b.count()"
   ]
  },
  {
   "cell_type": "code",
   "execution_count": 7,
   "metadata": {},
   "outputs": [
    {
     "data": {
      "text/plain": [
       "count    64694.000000\n",
       "mean        38.793922\n",
       "std         22.162029\n",
       "min         -1.000000\n",
       "25%         21.000000\n",
       "50%         38.000000\n",
       "75%         56.000000\n",
       "max        115.000000\n",
       "Name: Age, dtype: float64"
      ]
     },
     "execution_count": 7,
     "metadata": {},
     "output_type": "execute_result"
    }
   ],
   "source": [
    "# Quiz 2\n",
    "males = train[train.Gender == 'M']\n",
    "females = train[train.Gender == 'F']\n",
    "males[\"Age\"].describe()\n",
    "females[\"Age\"].describe()"
   ]
  },
  {
   "cell_type": "code",
   "execution_count": 8,
   "metadata": {},
   "outputs": [],
   "source": [
    "# Quiz 3 & 4\n",
    "# modifying dtype to datetime\n",
    "\n",
    "# all_data.ScheduledDay.dtype\n",
    "train.ScheduledDay = pd.to_datetime(train.ScheduledDay)\n",
    "train.AppointmentDay = pd.to_datetime(train.AppointmentDay)\n"
   ]
  },
  {
   "cell_type": "code",
   "execution_count": 9,
   "metadata": {},
   "outputs": [
    {
     "data": {
      "text/html": [
       "<div>\n",
       "<style scoped>\n",
       "    .dataframe tbody tr th:only-of-type {\n",
       "        vertical-align: middle;\n",
       "    }\n",
       "\n",
       "    .dataframe tbody tr th {\n",
       "        vertical-align: top;\n",
       "    }\n",
       "\n",
       "    .dataframe thead th {\n",
       "        text-align: right;\n",
       "    }\n",
       "</style>\n",
       "<table border=\"1\" class=\"dataframe\">\n",
       "  <thead>\n",
       "    <tr style=\"text-align: right;\">\n",
       "      <th></th>\n",
       "      <th>PatientId</th>\n",
       "      <th>AppointmentID</th>\n",
       "      <th>ScheduledDay</th>\n",
       "      <th>AppointmentDay</th>\n",
       "      <th>SMS_received</th>\n",
       "      <th>No-show</th>\n",
       "      <th>Hipertension</th>\n",
       "      <th>Diabetes</th>\n",
       "      <th>Alcoholism</th>\n",
       "      <th>Handcap</th>\n",
       "      <th>Gender</th>\n",
       "      <th>Age</th>\n",
       "      <th>Neighbourhood</th>\n",
       "      <th>Scholarship</th>\n",
       "      <th>dayOfWeek</th>\n",
       "    </tr>\n",
       "  </thead>\n",
       "  <tbody>\n",
       "    <tr>\n",
       "      <th>0</th>\n",
       "      <td>2.987250e+13</td>\n",
       "      <td>5642903</td>\n",
       "      <td>2016-04-29 18:38:08+00:00</td>\n",
       "      <td>2016-04-29 00:00:00+00:00</td>\n",
       "      <td>0</td>\n",
       "      <td>No</td>\n",
       "      <td>1</td>\n",
       "      <td>0</td>\n",
       "      <td>0</td>\n",
       "      <td>0</td>\n",
       "      <td>F</td>\n",
       "      <td>62</td>\n",
       "      <td>JARDIM DA PENHA</td>\n",
       "      <td>0</td>\n",
       "      <td>Friday</td>\n",
       "    </tr>\n",
       "    <tr>\n",
       "      <th>1</th>\n",
       "      <td>5.589978e+14</td>\n",
       "      <td>5642503</td>\n",
       "      <td>2016-04-29 16:08:27+00:00</td>\n",
       "      <td>2016-04-29 00:00:00+00:00</td>\n",
       "      <td>0</td>\n",
       "      <td>No</td>\n",
       "      <td>0</td>\n",
       "      <td>0</td>\n",
       "      <td>0</td>\n",
       "      <td>0</td>\n",
       "      <td>M</td>\n",
       "      <td>56</td>\n",
       "      <td>JARDIM DA PENHA</td>\n",
       "      <td>0</td>\n",
       "      <td>Friday</td>\n",
       "    </tr>\n",
       "    <tr>\n",
       "      <th>2</th>\n",
       "      <td>8.679512e+11</td>\n",
       "      <td>5642828</td>\n",
       "      <td>2016-04-29 17:29:31+00:00</td>\n",
       "      <td>2016-04-29 00:00:00+00:00</td>\n",
       "      <td>0</td>\n",
       "      <td>No</td>\n",
       "      <td>0</td>\n",
       "      <td>0</td>\n",
       "      <td>0</td>\n",
       "      <td>0</td>\n",
       "      <td>F</td>\n",
       "      <td>8</td>\n",
       "      <td>PONTAL DE CAMBURI</td>\n",
       "      <td>0</td>\n",
       "      <td>Friday</td>\n",
       "    </tr>\n",
       "    <tr>\n",
       "      <th>3</th>\n",
       "      <td>8.841186e+12</td>\n",
       "      <td>5642494</td>\n",
       "      <td>2016-04-29 16:07:23+00:00</td>\n",
       "      <td>2016-04-29 00:00:00+00:00</td>\n",
       "      <td>0</td>\n",
       "      <td>No</td>\n",
       "      <td>1</td>\n",
       "      <td>1</td>\n",
       "      <td>0</td>\n",
       "      <td>0</td>\n",
       "      <td>F</td>\n",
       "      <td>56</td>\n",
       "      <td>JARDIM DA PENHA</td>\n",
       "      <td>0</td>\n",
       "      <td>Friday</td>\n",
       "    </tr>\n",
       "    <tr>\n",
       "      <th>4</th>\n",
       "      <td>9.598513e+13</td>\n",
       "      <td>5626772</td>\n",
       "      <td>2016-04-27 08:36:51+00:00</td>\n",
       "      <td>2016-04-29 00:00:00+00:00</td>\n",
       "      <td>0</td>\n",
       "      <td>No</td>\n",
       "      <td>1</td>\n",
       "      <td>0</td>\n",
       "      <td>0</td>\n",
       "      <td>0</td>\n",
       "      <td>F</td>\n",
       "      <td>76</td>\n",
       "      <td>REPÚBLICA</td>\n",
       "      <td>0</td>\n",
       "      <td>Friday</td>\n",
       "    </tr>\n",
       "  </tbody>\n",
       "</table>\n",
       "</div>"
      ],
      "text/plain": [
       "      PatientId  AppointmentID              ScheduledDay  \\\n",
       "0  2.987250e+13        5642903 2016-04-29 18:38:08+00:00   \n",
       "1  5.589978e+14        5642503 2016-04-29 16:08:27+00:00   \n",
       "2  8.679512e+11        5642828 2016-04-29 17:29:31+00:00   \n",
       "3  8.841186e+12        5642494 2016-04-29 16:07:23+00:00   \n",
       "4  9.598513e+13        5626772 2016-04-27 08:36:51+00:00   \n",
       "\n",
       "             AppointmentDay  SMS_received No-show  Hipertension  Diabetes  \\\n",
       "0 2016-04-29 00:00:00+00:00             0      No             1         0   \n",
       "1 2016-04-29 00:00:00+00:00             0      No             0         0   \n",
       "2 2016-04-29 00:00:00+00:00             0      No             0         0   \n",
       "3 2016-04-29 00:00:00+00:00             0      No             1         1   \n",
       "4 2016-04-29 00:00:00+00:00             0      No             1         0   \n",
       "\n",
       "   Alcoholism  Handcap Gender  Age      Neighbourhood  Scholarship dayOfWeek  \n",
       "0           0        0      F   62    JARDIM DA PENHA            0    Friday  \n",
       "1           0        0      M   56    JARDIM DA PENHA            0    Friday  \n",
       "2           0        0      F    8  PONTAL DE CAMBURI            0    Friday  \n",
       "3           0        0      F   56    JARDIM DA PENHA            0    Friday  \n",
       "4           0        0      F   76          REPÚBLICA            0    Friday  "
      ]
     },
     "execution_count": 9,
     "metadata": {},
     "output_type": "execute_result"
    }
   ],
   "source": [
    "# extracting dayOfWeek and hour column \n",
    "\n",
    "train['dayOfWeek'] = train['AppointmentDay'].dt.day_name()\n",
    "train.head()"
   ]
  },
  {
   "cell_type": "code",
   "execution_count": 10,
   "metadata": {},
   "outputs": [
    {
     "data": {
      "text/plain": [
       "Wednesday    23287\n",
       "Tuesday      23048\n",
       "Monday       20470\n",
       "Friday       17066\n",
       "Thursday     15585\n",
       "Saturday        34\n",
       "Name: dayOfWeek, dtype: int64"
      ]
     },
     "execution_count": 10,
     "metadata": {},
     "output_type": "execute_result"
    }
   ],
   "source": [
    "#train.value_counts()\n",
    "train['dayOfWeek'].value_counts()"
   ]
  },
  {
   "cell_type": "code",
   "execution_count": 11,
   "metadata": {},
   "outputs": [
    {
     "data": {
      "text/plain": [
       "0        -1\n",
       "1        -1\n",
       "2        -1\n",
       "3        -1\n",
       "4         1\n",
       "         ..\n",
       "99485    34\n",
       "99486    34\n",
       "99487    34\n",
       "99488    40\n",
       "99489    40\n",
       "Name: diff_bookingDays, Length: 99490, dtype: int32"
      ]
     },
     "execution_count": 11,
     "metadata": {},
     "output_type": "execute_result"
    }
   ],
   "source": [
    "# Quiz 5\n",
    "\n",
    "train['diff_bookingDays'] = (train['AppointmentDay']-train['ScheduledDay']).astype('timedelta64[D]')\n",
    "train['diff_bookingDays'].head()\n",
    "#train['diff_bookingDays'] = np.where(train['diff_bookingDays']< 0, 0, train['diff_bookingDays'])\n",
    "train.head()\n",
    "train['diff_bookingDays'].astype('int')"
   ]
  },
  {
   "cell_type": "code",
   "execution_count": 12,
   "metadata": {},
   "outputs": [
    {
     "data": {
      "text/plain": [
       "count    99490.000000\n",
       "mean         9.207508\n",
       "std         15.260697\n",
       "min         -7.000000\n",
       "25%         -1.000000\n",
       "50%          3.000000\n",
       "75%         14.000000\n",
       "max        178.000000\n",
       "Name: diff_bookingDays, dtype: float64"
      ]
     },
     "execution_count": 12,
     "metadata": {},
     "output_type": "execute_result"
    }
   ],
   "source": [
    "train['diff_bookingDays'].describe()"
   ]
  },
  {
   "cell_type": "code",
   "execution_count": 13,
   "metadata": {},
   "outputs": [
    {
     "data": {
      "text/plain": [
       "PatientId           11267\n",
       "AppointmentID       11267\n",
       "ScheduledDay        11267\n",
       "AppointmentDay      11267\n",
       "SMS_received        11267\n",
       "No-show             11267\n",
       "Hipertension        11267\n",
       "Diabetes            11267\n",
       "Alcoholism          11267\n",
       "Handcap             11267\n",
       "Gender              11267\n",
       "Age                 11267\n",
       "Neighbourhood       11267\n",
       "Scholarship         11267\n",
       "dayOfWeek           11267\n",
       "diff_bookingDays    11267\n",
       "dtype: int64"
      ]
     },
     "execution_count": 13,
     "metadata": {},
     "output_type": "execute_result"
    }
   ],
   "source": [
    "# Quiz 6\n",
    "a = train[train[\"No-show\"] == \"Yes\"]\n",
    "b = train[(train[\"No-show\"] == \"Yes\") & (train[\"SMS_received\"] == 0)]\n",
    "a.count()\n",
    "b.count()"
   ]
  },
  {
   "cell_type": "code",
   "execution_count": 14,
   "metadata": {},
   "outputs": [
    {
     "data": {
      "text/plain": [
       "JARDIM CAMBURI                 6948\n",
       "MARIA ORTIZ                    5203\n",
       "RESISTÊNCIA                    3960\n",
       "JARDIM DA PENHA                3509\n",
       "ITARARÉ                        3171\n",
       "                               ... \n",
       "ILHA DO BOI                      31\n",
       "ILHA DO FRADE                    10\n",
       "AEROPORTO                         7\n",
       "ILHAS OCEÂNICAS DE TRINDADE       2\n",
       "PARQUE INDUSTRIAL                 1\n",
       "Name: Neighbourhood, Length: 81, dtype: int64"
      ]
     },
     "execution_count": 14,
     "metadata": {},
     "output_type": "execute_result"
    }
   ],
   "source": [
    "# Quiz 7\n",
    "train[\"Neighbourhood\"].value_counts()"
   ]
  }
 ],
 "metadata": {
  "kernelspec": {
   "display_name": "Python 3",
   "language": "python",
   "name": "python3"
  },
  "language_info": {
   "codemirror_mode": {
    "name": "ipython",
    "version": 3
   },
   "file_extension": ".py",
   "mimetype": "text/x-python",
   "name": "python",
   "nbconvert_exporter": "python",
   "pygments_lexer": "ipython3",
   "version": "3.8.5"
  }
 },
 "nbformat": 4,
 "nbformat_minor": 2
}
